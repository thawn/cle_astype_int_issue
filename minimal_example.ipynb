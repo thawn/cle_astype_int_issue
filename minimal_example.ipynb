{
 "cells": [
  {
   "cell_type": "code",
   "execution_count": 1,
   "id": "bd7c9f19-92ef-4abb-9f9e-9e59dfdc1f2a",
   "metadata": {},
   "outputs": [],
   "source": [
    "import pyclesperanto_prototype as cle"
   ]
  },
  {
   "cell_type": "code",
   "execution_count": 2,
   "id": "c9ac3cef-6684-470b-97c6-6ecb30472368",
   "metadata": {},
   "outputs": [
    {
     "data": {
      "text/html": [
       "<table>\n",
       "<tr>\n",
       "<td>\n",
       "<img src=\"data:image/png;base64,iVBORw0KGgoAAAANSUhEUgAAAoAAAAHgCAYAAAA10dzkAAAAOXRFWHRTb2Z0d2FyZQBNYXRwbG90bGliIHZlcnNpb24zLjYuMCwgaHR0cHM6Ly9tYXRwbG90bGliLm9yZy89olMNAAAACXBIWXMAAA9hAAAPYQGoP6dpAAA8E0lEQVR4nO3df1xUdb7H8feIMqgBLpogiYimomCuC/5Eza5Fl7Jtdx+mrUWt6aN8YCWxWXGtm/rYZG33KqbhLrsZdVuLfaxZbmurtGv+uLqtItgP81e6gQqxeg00BRTm/uFltpEfR2HOjJzzej4e5485c+bDZ8jRd5/vOWccLpfLJQAAANhGB383AAAAAN8iAAIAANgMARAAAMBmCIAAAAA2QwAEAACwGQIgAACAzRAAAQAAbIYACAAAYDMEQAAAAJshAAIAANgMARAAAMBmCIAAAAA2QwAEAACwGQIgAACAzRAAAQAAbIYACAAAYDMEQAAAAJshAAIAANgMARAAAMBmCIAAAAA2QwAEAACwGQIgAACAzRAAAQAAbIYACAAAYDMEQAAAAJshAAIAANgMARAAAMBmCIAAAAA2QwAEAACwGQIgAACAzRAAAQAAbIYACAAAYDMEQAAAAJshAAIAANgMARAAAMBmCIAAAAA2QwAEAACwGQIgAACAzRAAAQAAbIYACAAAYDMEQAAAAJshAAIAANgMARAAAMBmCIAAAAA2QwAEAACwGQIgAACAzRAAAQAAbIYACAAAYDMEQAAAAJshAAIAANgMARAAAMBmCIAAAAA2QwAEAACwGQIgAACAzRAAAQAAbIYACAAAYDMd/d0Arkx9fb1OnDih4OBgORwOf7cDALhKLpdLZ86cUWRkpDp0MG/+Ul1drdra2jbXCQwMVFBQkBc6wrWIANhOnDhxQlFRUf5uAwDQRqWlperdu7cptaurqxUTE6Py8vI214qIiNDRo0cJgRZFAGwngoODJUn9+vVTQECA1+tXV1d7vWYDM/ptEBMTY1rtw4cPm1Zbki5evGha7e7du5tW+/Tp06bVvv76602rbaZRo0aZVrtfv36m1TbzsylJ586dM632Z599ZlrtkpISU+pevHhRu3btcv99boba2lqVl5ertLRUISEhra5TVVWlqKgo1dbWEgAtigDYTjQs+wYEBJjyl7aZyxFm1u7Y0bw/wmb2bXZ9M/9hb699m8npdJpW28x/fM38/EiXTl0xS2BgoGm1zf69+OI0nuDg4DYFTZfL5cVucC3iIhAAAACbIQACAADYDEvAAABYjMvlatMyLkvA1scEEAAAwGYIgD6Uk5OjmJgYBQUFKSEhQdu2bfN3SwAAwIYIgD6Sn5+v9PR0zZ8/X0VFRRo/frxSUlJMu90AAMC+GpaA27LB2giAPrJ06VLNnDlTs2bN0uDBg5Wdna2oqCitWrXK360BAACbIQD6QG1trQoLC5WcnOyxPzk5WTt27GjyNTU1NaqqqvLYAAAAvIEA6AMnT55UXV2dwsPDPfaHh4c3+3U9WVlZCg0NdW98DRwA4EqxBAwjBEAfuvzu7y6Xq9k7wmdmZqqystK9lZaW+qJFAABgA9wH0Ad69OihgICARtO+ioqKRlPBBk6n09SvlwIAAPbFBNAHAgMDlZCQoIKCAo/9BQUFGjt2rJ+6AgBYFUvAMMIE0EcyMjKUmpqqxMREjRkzRrm5uSopKdHs2bP93RoAALAZAqCPTJs2TadOndKiRYtUVlam+Ph4bdiwQdHR0f5uDQAA2AwB0IfS0tKUlpbm7zYAABbHdwHDCOcAAgAA2AwBEAAAwGZYAgYAwGJYAoYRJoAAAAA2wwSwnfn666/VoYP3c7sZNRvU19ebVvvixYum1T579qxptSXpxhtvNK22mTcRDwsLM612ly5dTKsdEhJiWu3i4mLTaldWVppW28z/lpLUu3dv02rfdtttptXevn27KXVra2u1c+dOU2oDV4sACACAxbAEDCMsAQMAANgMARAAAMBmCIAAAAA2wzmAAABYDOcAwggTQAAAAJshAAIAANgMS8AAAFgMS8AwwgQQAADAZgiAAAAANsMSMAAAFsMSMIwwAQQAALAZAiAAAIDNsAQMAIDFsAQMI0wAAQAAbIYACAAAYDMsAQMAYDEsAcMIE0AAAACbYQIIAIDFMAGEESaAAAAANkMABAAAsBkCIAAAFtOwBNyWrTVycnIUExOjoKAgJSQkaNu2bc0e+5Of/EQOh6PRFhcX5z4mLy+vyWOqq6tb1R/+hXMA25l//vOfptTt16+fKXUl6auvvjKt9ocffmha7QEDBphWW5KcTqdptTt2NO+j3alTJ9NqHzt2zLTaN954o2m1e/XqZVrt/fv3m1Y7Pj7etNqSdOLECdNqf/HFF6bVNuv8N6ufV5efn6/09HTl5OQoKSlJv/71r5WSkqJ9+/apT58+jY5fvny5fv7zn7sfX7x4UcOGDdM999zjcVxISIgOHDjgsS8oKMicN2EjTAABAECbLV26VDNnztSsWbM0ePBgZWdnKyoqSqtWrWry+NDQUEVERLi33bt36/Tp05oxY4bHcQ6Hw+O4iIgIX7wdyyMAAgBgMb5eAq6trVVhYaGSk5M99icnJ2vHjh1XVOOVV17RrbfequjoaI/9Z8+eVXR0tHr37q3JkyerqKjoqnpD01gCBgAATaqqqvJ47HQ6mzx95eTJk6qrq1N4eLjH/vDwcJWXlxv+nLKyMr3//vtas2aNx/7Y2Fjl5eVp6NChqqqq0vLly5WUlKS9e/eafpqO1TEBBADAYrw1AYyKilJoaKh7y8rKavHnOhyORn1cvq8peXl56tatm37wgx947B89erTuv/9+DRs2TOPHj9fvf/97DRw4UCtWrLi6XwgaYQIIAACaVFpaqpCQEPfj5i5e69GjhwICAhpN+yoqKhpNBS/ncrm0evVqpaamKjAwsMVjO3TooBEjRujQoUNX+A7QHCaAAACgSSEhIR5bcwEwMDBQCQkJKigo8NhfUFCgsWPHtvgztmzZosOHD2vmzJmG/bhcLhUXF5t65b1dMAEEAMBi/PFVcBkZGUpNTVViYqLGjBmj3NxclZSUaPbs2ZKkzMxMHT9+XK+//rrH61555RWNGjWqydsSLVy4UKNHj9aAAQNUVVWll156ScXFxXr55Zdb98bgRgD0kaysLL399tvav3+/OnfurLFjx2rJkiUaNGiQv1sDAFiQr+87OG3aNJ06dUqLFi1SWVmZ4uPjtWHDBvdVvWVlZSopKfF4TWVlpdauXavly5c3WfPrr7/Www8/rPLycoWGhmr48OHaunWrRo4cafr7sToCoI9s2bJFc+bM0YgRI3Tx4kXNnz9fycnJ2rdvn7p27erv9gAAaLO0tDSlpaU1+VxeXl6jfaGhoTp37lyz9ZYtW6Zly5Z5qz18CwHQR/785z97PH711VfVs2dPFRYWasKECX7qCgAA2BEB0E8qKyslSWFhYU0+X1NTo5qaGvfjy+/FBABAc/xxDiDaF64C9gOXy6WMjAyNGzeu2e/izMrK8rj3UlRUlI+7BAC0V77+JhC0PwRAP3j00Uf18ccf680332z2mMzMTFVWVrq30tJSH3YIAACsjCVgH3vssce0fv16bd26Vb179272uOa+bgcAACMsAcMIAdBHXC6XHnvsMa1bt04ffvihYmJi/N0SAACwKQKgj8yZM0dr1qzRu+++q+DgYPfX5YSGhqpz585+7g4AANgJ5wD6yKpVq1RZWamJEyeqV69e7i0/P9/frQEALIaLQGCECaCP8GECAPgK5wDCCBNAAAAAmyEAAgAA2AxLwAAAWAxLwDBCAAQAwGIIgDBCAGxnevfurQ4dvL9yHxIS4vWaDUJDQ02r3fCdymZo7nuavaWiosK02h07mvfRHjRokGm1W7o5elsdPnzYtNqjRo0yrXb//v1Nq92pUyfTakty3+7KDP369TOttlm/l+rqalPqAq1BAAQAwGKYAMIIF4EAAADYDAEQAADAZlgCBgDAYlgChhECIAAAFkMAhBGWgAEAAGyGCSAAABbDBBBGmAACAADYDAEQAADAZlgCBgDAYlgChhECIAAAFkMAhBGWgAEAAGyGAAgAAGAzLAEDAGAxLAHDCAEQAACLIQDCCEvAAAAANsMEEAAAi2ECCCNMAAEAAGyGAAgAAGAzLAEDAGAxLAHDCAEQAAALIsShJSwBAwAA2AwTwHYmODhYAQEBXq9bXl7u9ZoNunXrZlrt3r17m1Z74MCBptWWpM8//9y02n369DGtdseO5v218cUXX5hWe+TIkabVLi4uNq32hAkTTKu9YcMG02pLUnh4uGm1IyIiTKsdEhJiSl0mcriWEAABALAYzgGEEQIgAAAWQwCEEc4BBAAAsBkCIAAAFtMwAWzL1ho5OTmKiYlRUFCQEhIStG3btmaP/clPfiKHw9Foi4uL8zhu7dq1GjJkiJxOp4YMGaJ169a1qjd4IgACAGAx/giA+fn5Sk9P1/z581VUVKTx48crJSVFJSUlTR6/fPlylZWVubfS0lKFhYXpnnvucR+zc+dOTZs2Tampqdq7d69SU1M1depUffTRR63+3eASAiAAAGizpUuXaubMmZo1a5YGDx6s7OxsRUVFadWqVU0eHxoaqoiICPe2e/dunT59WjNmzHAfk52drdtuu02ZmZmKjY1VZmamJk2apOzsbB+9K+siAAIAYDHemgBWVVV5bDU1NU3+vNraWhUWFio5Odljf3Jysnbs2HFFPb/yyiu69dZbFR0d7d63c+fORjVvv/32K66J5hEA/SArK0sOh0Pp6en+bgUAYEHeCoBRUVEKDQ11b1lZWU3+vJMnT6qurq7RvR/Dw8Ov6D6zZWVlev/99zVr1iyP/eXl5a2uiZZxGxgf27Vrl3Jzc3XTTTf5uxUAAFpUWlrqcWNsp9PZ4vEOh8PjscvlarSvKXl5eerWrZt+8IMfeK0mWsYE0IfOnj2r++67T7/5zW/0ne98x9/tAADQopCQEI+tuQDYo0cPBQQENJrMVVRUGH4jjMvl0urVq5WamqrAwECP5yIiIlpVE8YIgD40Z84c3Xnnnbr11lv93QoAwMJ8fRVwYGCgEhISVFBQ4LG/oKBAY8eObfG1W7Zs0eHDhzVz5sxGz40ZM6ZRzU2bNhnWhDGWgH3krbfe0p49e7Rr164rOr6mpsbjZNuqqiqzWgMAoM0yMjKUmpqqxMREjRkzRrm5uSopKdHs2bMlSZmZmTp+/Lhef/11j9e98sorGjVqlOLj4xvVnDt3riZMmKAlS5bo7rvv1rvvvqsPPvhA27dv98l7sjICoA+UlpZq7ty52rRpk4KCgq7oNVlZWVq4cKHJnQEArMgfXwU3bdo0nTp1SosWLVJZWZni4+O1YcMG91W9ZWVlje4JWFlZqbVr12r58uVN1hw7dqzeeustPfvss3ruuefUv39/5efna9SoUVf/puCBAOgDhYWFqqioUEJCgntfXV2dtm7dqpUrV6qmpkYBAQEer8nMzFRGRob7cVVVlaKionzWMwCg/fLXdwGnpaUpLS2tyefy8vIa7QsNDdW5c+darDllyhRNmTKlVf2geQRAH5g0aZI++eQTj30zZsxQbGysnn766UbhT7p0pZXR1VYAADTFXwEQ7QcB0AeCg4MbndvQtWtXde/evclzHgAAAMxEAAQAwGKYAMIIAdBPPvzwQ3+3AACwKAIgjHAfQAAAAJthAggAgMUwAYQRAiAAABZDAIQRloABAABshgAIAABgMywBtzPV1dXq0MH7ub1Pnz5er9ng8q/+8aauXbuaVvvw4cOm1ZakpKQk02pff/31ptU+ePCgabXHjRtnWu0zZ86YVrvhq67McOzYMdNqf+c73zGttiRFRESYVnvDhg2m1Y6LizOl7oULF0yp2xSWgGGECSAAAIDNMAEEAMBimADCCAEQAACLIQDCCAEQAAALIsShJZwDCAAAYDNMAAEAsBiWgGGEAAgAgMUQAGGEJWAAAACbYQIIAIDFMAGEESaAAAAANkMABAAAsBmWgAEAsBiWgGGEAAgAgMUQAGGEJWAAAACbYQIIAIDFMAGEEQIgAAAWQwCEEQIgAAAWQwCEEc4BBAAAsBkmgAAAWAwTQBghAAIAYDEEQBhhCRgAAMBmCIAAAAA2wxJwO3PdddcpICDAlLpmSUhIMK12SEiIabWDg4NNqy1JN9xwg2m1v/rqK9Nqjxw50rTa3bp1M632/v37TavtcDhMq92lSxfTasfFxZlWW5Lee+8902rfdNNNptWeNGmSKXXPnz+vd99915Tal2MJGEaYAAIAANgME0AAACymvr5e9fX1bXo9rI0ACACAxbAEDCMsAQMAANgME0AAACyGCSCMEAABALAYAiCMsATsQ8ePH9f999+v7t27q0uXLvrud7+rwsJCf7cFALAYl8vlvhCkNVtrA2BOTo5iYmIUFBSkhIQEbdu2rcXja2pqNH/+fEVHR8vpdKp///5avXq1+/m8vDw5HI5GW3V1dav6w78wAfSR06dPKykpSbfccovef/999ezZU1988YWp9z0DAMBX8vPzlZ6erpycHCUlJenXv/61UlJStG/fPvXp06fJ10ydOlVfffWVXnnlFd14442qqKjQxYsXPY4JCQnRgQMHPPYFBQWZ9j7sggDoI0uWLFFUVJReffVV976+ffv6ryEAgGX5Ywl46dKlmjlzpmbNmiVJys7O1saNG7Vq1SplZWU1Ov7Pf/6ztmzZoiNHjigsLExS0/8uOhwORUREXHU/aBlLwD6yfv16JSYm6p577lHPnj01fPhw/eY3v/F3WwAAC2oIgG3ZJKmqqspjq6mpafLn1dbWqrCwUMnJyR77k5OTtWPHjiZf0/Dv4osvvqgbbrhBAwcO1JNPPqnz5897HHf27FlFR0erd+/emjx5soqKirzwGwIB0EeOHDmiVatWacCAAdq4caNmz56txx9/XK+//nqTx9fU1DT64AEA4EtRUVEKDQ11b01N8iTp5MmTqqurU3h4uMf+8PBwlZeXN/maI0eOaPv27fr000+1bt06ZWdn6w9/+IPmzJnjPiY2NlZ5eXlav3693nzzTQUFBSkpKUmHDh3y3pu0KZaAfaS+vl6JiYlavHixJGn48OH67LPPtGrVKj3wwAONjs/KytLChQt93SYAwAK8tQRcWlrq8Z3rTqezxddd/r3YLper2e/Krq+vl8Ph0O9+9zuFhoZKurSMPGXKFL388svq3LmzRo8erdGjR7tfk5SUpO9973tasWKFXnrppVa9N1zCBNBHevXqpSFDhnjsGzx4sEpKSpo8PjMzU5WVle6ttLTUF20CACzAW0vAISEhHltzAbBHjx4KCAhoNO2rqKhoNBVs0KtXL91www3u8Cdd+nfR5XLp2LFjTb6mQ4cOGjFiBBNALyAA+khSUlKjq5gOHjyo6OjoJo93Op2NPngAAFyLAgMDlZCQoIKCAo/9BQUFGjt2bJOvSUpK0okTJ3T27Fn3voMHD6pDhw7q3bt3k69xuVwqLi5Wr169vNe8TREAfeSJJ57Q3/72Ny1evFiHDx/WmjVrlJub63GuAwAA3tCWewA2bFcrIyNDv/3tb7V69Wp9/vnneuKJJ1RSUqLZs2dLurSy9e1TnqZPn67u3btrxowZ2rdvn7Zu3ap58+bpoYceUufOnSVJCxcu1MaNG3XkyBEVFxdr5syZKi4udtdE63EOoI+MGDFC69atU2ZmphYtWqSYmBhlZ2frvvvu83drAACL8cdtYKZNm6ZTp05p0aJFKisrU3x8vDZs2OBe6SorK/M47em6665TQUGBHnvsMSUmJqp79+6aOnWqfvazn7mP+frrr/Xwww+rvLxcoaGhGj58uLZu3aqRI0e2+r3hEgKgD02ePFmTJ0/2dxsAAJgiLS1NaWlpTT6Xl5fXaF9sbGyjZeNvW7ZsmZYtW+at9vAtBEAAACyG7wKGEQIgAAAWQwCEEQIgAAAW09oLOb79elgbVwEDAADYDBNAAAAshiVgGCEAtjP9+/dXp06dvF733//9371es8GRI0dMq921a1fTan/75qRmiIuLM632j370I9Nqd+vWzbTaFRUVptW+/Jt4vKmystK02t/+lgRv+/zzz02rLUmnT582rXZYWJhptS9evNiu6jaFAAgjLAEDAADYDBNAAAAshgkgjBAAAQCwGAIgjLAEDAAAYDNMAAEAsBjuAwgjBEAAACyGJWAYYQkYAADAZpgAAgBgQUzx0BICIAAAFsMSMIwQAAEAsBguAoERzgEEAACwGSaAAABYDEvAMEIABADAYgiAMMISMAAAgM0wAQQAwGKYAMIIARAAAIshAMIIS8AAAAA2wwQQAACL4T6AMEIABADAYlgChhGWgAEAAGyGCSAAABbDBBBGCIAAAFgMARBGCIDtzOTJk9WlSxev1z116pTXazb48Y9/bFrt4OBg02p37drVtNqSdOHCBdNq19TUmFbbzL6Li4tNq23mP2jDhw83rXa/fv1Mq33+/HnTakvSV199ZVrtiRMnmla7urralLpnz541pW5TuAgERjgHEAAAwGaYAAIAYDEsAcMIARAAAIshAMIIS8AAAAA2wwQQAACLYQIIIwRAAAAsiBCHlrAE7CMXL17Us88+q5iYGHXu3Fn9+vXTokWLuNQeAAD4HBNAH1myZIl+9atf6bXXXlNcXJx2796tGTNmKDQ0VHPnzvV3ewAAC2EJGEYIgD6yc+dO3X333brzzjslSX379tWbb76p3bt3+7kzAIDVEABhhCVgHxk3bpz+8pe/6ODBg5KkvXv3avv27brjjjv83BkAALAbAqCPPP300/rxj3+s2NhYderUScOHD1d6enqzX5NWU1Ojqqoqjw0AgCvRMAFsy9YaOTk5iomJUVBQkBISErRt27YWj6+pqdH8+fMVHR0tp9Op/v37a/Xq1R7HrF27VkOGDJHT6dSQIUO0bt26VvUGTwRAH8nPz9cbb7yhNWvWaM+ePXrttdf0y1/+Uq+99lqTx2dlZSk0NNS9RUVF+bhjAEB75Y8AmJ+fr/T0dM2fP19FRUUaP368UlJSVFJS0uxrpk6dqr/85S965ZVXdODAAb355puKjY11P79z505NmzZNqamp2rt3r1JTUzV16lR99NFHrfq94F84B9BH5s2bp2eeeUb33nuvJGno0KH68ssvlZWVpQcffLDR8ZmZmcrIyHA/rqqqIgQCAK6IP84BXLp0qWbOnKlZs2ZJkrKzs7Vx40atWrVKWVlZjY7/85//rC1btujIkSMKCwuTdOn8+G/Lzs7WbbfdpszMTEmX/m3csmWLsrOz9eabb151j/gXJoA+cu7cOXXo4PnrDggIaPY2ME6nUyEhIR4bAADXotraWhUWFio5Odljf3Jysnbs2NHka9avX6/ExES9+OKLuuGGGzRw4EA9+eSTOn/+vPuYnTt3Nqp5++23N1sTV44JoI/cddddeuGFF9SnTx/FxcWpqKhIS5cu1UMPPeTv1gAAFlNfX9+m+8w2vPby88+dTqecTmej40+ePKm6ujqFh4d77A8PD1d5eXmTP+PIkSPavn27goKCtG7dOp08eVJpaWn63//9X/d5gOXl5VdVE1eOAOgjK1as0HPPPae0tDRVVFQoMjJSjzzyiP7zP//T360BACzGW0vAl5969Pzzz2vBggXNvs7hcDSqc/m+BvX19XI4HPrd736n0NBQSZeWkadMmaKXX35ZnTt3vuqauHIEQB8JDg5Wdna2srOz/d0KAABXpLS01OMUpKamf5LUo0cPBQQENJrMVVRUNJrgNejVq5duuOEGd/iTpMGDB8vlcunYsWMaMGCAIiIirqomrhznAAIAYDHeugr48nPRmwuAgYGBSkhIUEFBgcf+goICjR07tsnXJCUl6cSJEzp79qx738GDB9WhQwf17t1bkjRmzJhGNTdt2tRsTVw5AiAAABbjj9vAZGRk6Le//a1Wr16tzz//XE888YRKSko0e/ZsSZeu4H3ggQfcx0+fPl3du3fXjBkztG/fPm3dulXz5s3TQw895F7+nTt3rjZt2qQlS5Zo//79WrJkiT744AOlp6d75fdkZywBAwCANps2bZpOnTqlRYsWqaysTPHx8dqwYYOio6MlSWVlZR73BLzuuutUUFCgxx57TImJierevbumTp2qn/3sZ+5jxo4dq7feekvPPvusnnvuOfXv31/5+fkaNWqUz9+f1RAAAQCwGH99F3BaWprS0tKafC4vL6/RvtjY2EZLvJebMmWKpkyZ0qp+0DwCIAAAFuOvAIj2gwDYzpw6dUrnzp3zet1vvvnG6zUbfP7556bVDgwMNK32TTfdZFptSQoKCjKtdnMnantDdXW1abXr6upMq335jdi9ycxvJDhz5oxptRuW5szy7as7va1Lly6m1a6srDSlbm1trSl1gdYgAAIAYDFMAGGEAAgAgMUQAGGEAAgAgMUQAGGE+wACAADYDBNAAAAshgkgjBAAAQCwGJfLpfr6+ja9HtbGEjAAAIDNMAEEAMBiWAKGEQIgAAAWQwCEEZaAAQAAbIYJIAAAFsMEEEYIgAAAWAwBEEYIgAAAWAwBEEY4BxAAAMBmmAACAGAxTABhhAAIAIDFEABhhCVgAAAAm2ECCACAxTABhBECIAAAFkMAhBGWgAEAAGyGCSAAABbDBBBGCIAAAFhMfX296uvr2/R6WBsBsJ154403FBAQ4PW69913n9drNujRo4dptY8cOWJabbP/AqyqqjKtdnV1tWm1g4ODTat9xx13mFZ748aNptU+f/68abX37NljWu3rrrvOtNqSVFZWZlrt3bt3m1Y7NDTUlLo1NTWm1AVagwAIAIDFsAQMIwRAAAAshgAIIwRAAAAshgAII9wGBgAAwGaYAAIAYDFMAGGEAAgAgMUQAGGEJWAAAACbIQB6wdatW3XXXXcpMjJSDodD77zzjsfzLpdLCxYsUGRkpDp37qyJEyfqs88+80+zAABbaJgCtmaD9REAveCbb77RsGHDtHLlyiaff/HFF7V06VKtXLlSu3btUkREhG677TadOXPGx50CAOygLeGPEGgPnAPoBSkpKUpJSWnyOZfLpezsbM2fP18/+tGPJEmvvfaawsPDtWbNGj3yyCO+bBUAAIAJoNmOHj2q8vJyJScnu/c5nU7dfPPN2rFjR7Ovq6mpUVVVlccGAMCVYAIIIwRAk5WXl0uSwsPDPfaHh4e7n2tKVlaWQkND3VtUVJSpfQIArIMACCMEQB9xOBwej10uV6N935aZmanKykr3VlpaanaLAADAJjgH0GQRERGSLk0Ce/Xq5d5fUVHRaCr4bU6nU06n0/T+AADWw30AYYQJoMliYmIUERGhgoIC977a2lpt2bJFY8eO9WNnAACrYgkYRgiAXnD27FkVFxeruLhY0qULP4qLi1VSUiKHw6H09HQtXrxY69at06effqqf/OQn6tKli6ZPn+7fxgEAluSvAJiTk6OYmBgFBQUpISFB27Zta/bYDz/8UA6Ho9G2f/9+9zF5eXlNHlNdXd2q/vAvLAF7we7du3XLLbe4H2dkZEiSHnzwQeXl5empp57S+fPnlZaWptOnT2vUqFHatGmTgoOD/dUyAABelZ+fr/T0dOXk5CgpKUm//vWvlZKSon379qlPnz7Nvu7AgQMKCQlxP77++us9ng8JCdGBAwc89gUFBXm3eRsiAHrBxIkTW/y/JYfDoQULFmjBggW+awoAYFv+OAdw6dKlmjlzpmbNmiVJys7O1saNG7Vq1SplZWU1+7qePXuqW7duzT7vcDjc59PDe1gCBgDAYry1BHz5/Whramqa/Hm1tbUqLCz0uOetJCUnJ7d4z1tJGj58uHr16qVJkyZp8+bNjZ4/e/asoqOj1bt3b02ePFlFRUWt/K3g2wiAAACgSVFRUR73pG1uknfy5EnV1dVd1T1ve/XqpdzcXK1du1Zvv/22Bg0apEmTJmnr1q3uY2JjY5WXl6f169frzTffVFBQkJKSknTo0CHvvUmbYgkYAACL8dYScGlpqcf5eUa3J7uae94OGjRIgwYNcj8eM2aMSktL9ctf/lITJkyQJI0ePVqjR492H5OUlKTvfe97WrFihV566aWre1PwwAQQAACL8dYScEhIiMfWXADs0aOHAgICGk37jO55e7nRo0e3ON3r0KGDRowYwQTQC5gAtjMpKSmm3CC6rKzM6zUbvP/++6bVNvMr8lavXm1abUkKCwszrfaFCxdMq33zzTebVrtv376m1R4xYoRptSsqKkyr3dw5V95w9OhR02pLl87dMsu3b6zvbWb9vXL+/HlT6l4LAgMDlZCQoIKCAv3whz907y8oKNDdd999xXWKiopa/G/rcrlUXFysoUOHtqlfEAABALAcf1wFnJGRodTUVCUmJmrMmDHKzc1VSUmJZs+eLenSV5weP35cr7/+uqRLVwn37dtXcXFxqq2t1RtvvKG1a9dq7dq17poLFy7U6NGjNWDAAFVVVemll15ScXGxXn755Va/N1xCAAQAwGL8EQCnTZumU6dOadGiRSorK1N8fLw2bNig6OhoSZdWmkpKStzH19bW6sknn9Tx48fVuXNnxcXF6U9/+pPuuOMO9zFff/21Hn74YZWXlys0NFTDhw/X1q1bNXLkyFa/N1xCAAQAAF6RlpamtLS0Jp/Ly8vzePzUU0/pqaeearHesmXLtGzZMm+1h28hAAIAYDH+mACifSEAAgBgMQRAGCEAAgBgMQRAGOE+gAAAADbDBBAAAIthAggjBEAAACyGAAgjLAEDAADYDBNAAAAsiCkeWkIABADAYlgChhGWgAEAAGyGCSAAABZTX1+v+vr6Nr0e1kYABADAYlgChhGWgAEAAGyGCSAAABbDBBBGCIAAAFgMARBGCIAAAFgMARBGOAcQAADAZpgAAgBgMUwAYYQACACAxRAAYYQA2M609UPdnFOnTnm9ZoNz586ZVvvkyZOm1Z4wYYJptSWpqqrKtNr//Oc/Tat98eJF02pXVFSYVjssLMy02ikpKabVfu2110yrXVJSYlptSerTp49ptQ8ePGha7ZqaGlPq1tbWmlIXaA0CIAAAFsMEEEYIgAAAWAwBEEa4ChgAAMBmmAACAGAx9fX1qq+vb9PrYW0EQAAALIYlYBhhCRgAAMBmmAACAGAxLAHDCBNAL9i6davuuusuRUZGyuFw6J133nE/d+HCBT399NMaOnSounbtqsjISD3wwAM6ceKE/xoGAFhawxJwWzZYGwHQC7755hsNGzZMK1eubPTcuXPntGfPHj333HPas2eP3n77bR08eFDf//73/dApAMAOXC6XewrYmo0AaH0sAXtBSkpKs98EEBoaqoKCAo99K1as0MiRI1VSUmLqnfIBAACaQgD0g8rKSjkcDnXr1q3ZY2pqajy+jsjMrw0DAFgLVwHDCEvAPlZdXa1nnnlG06dPV0hISLPHZWVlKTQ01L1FRUX5sEsAQHvGOYAwQgD0oQsXLujee+9VfX29cnJyWjw2MzNTlZWV7q20tNRHXQIAAKtjCdhHLly4oKlTp+ro0aP661//2uL0T5KcTqecTqePugMAWAm3gYERAqAPNIS/Q4cOafPmzerevbu/WwIAWBjnAMIIAdALzp49q8OHD7sfHz16VMXFxQoLC1NkZKSmTJmiPXv26L333lNdXZ3Ky8slSWFhYQoMDPRX2wAAwKYIgF6we/du3XLLLe7HGRkZkqQHH3xQCxYs0Pr16yVJ3/3udz1et3nzZk2cONFXbQIAbIIlYBghAHrBxIkTWxyXM0oHAPgSS8AwwlXAAAAANkMABADAYvx1H8CcnBzFxMQoKChICQkJ2rZtW7PHfvjhh3I4HI22/fv3exy3du1aDRkyRE6nU0OGDNG6deta1Rs8EQABALCYtnwPcGvPH8zPz1d6errmz5+voqIijR8/XikpKSopKWnxdQcOHFBZWZl7GzBggPu5nTt3atq0aUpNTdXevXuVmpqqqVOn6qOPPrrq/uCJAAgAgMX4YwK4dOlSzZw5U7NmzdLgwYOVnZ2tqKgorVq1qsXX9ezZUxEREe4tICDA/Vx2drZuu+02ZWZmKjY2VpmZmZo0aZKys7Ovuj94IgACAIAmVVVVeWzf/o76b6utrVVhYaGSk5M99icnJ2vHjh0t/ozhw4erV69emjRpkjZv3uzx3M6dOxvVvP322w1rwhhXAbczH3/8sTp16uT1uqGhoV6v2aBXr16m1T537pxptffu3WtabenSDcLN0q1bN9NqHzt2zLTau3btMq32iBEjTKvd3D+K3nDdddeZVjsyMtK02pJ04sQJ02pfHgq8qWvXrqbUPX/+vFavXm1K7ct56zYwl38P/fPPP68FCxY0Ov7kyZOqq6tTeHi4x/7w8HD3vW8v16tXL+Xm5iohIUE1NTX67//+b02aNEkffvihJkyYIEkqLy+/qpq4cgRAAAAsxlu3gSktLfX46lKjryh1OByN6ly+r8GgQYM0aNAg9+MxY8aotLRUv/zlL90B8Gpr4sqxBAwAAJoUEhLisTUXAHv06KGAgIBGk7mKiopGE7yWjB49WocOHXI/joiIaHNNNI0ACACAxfj6IpDAwEAlJCSooKDAY39BQYHGjh17xXWKioo8ThsaM2ZMo5qbNm26qppoGkvAAABYjMvlatM5gK1ZPs7IyFBqaqoSExM1ZswY5ebmqqSkRLNnz5YkZWZm6vjx43r99dclXbrCt2/fvoqLi1Ntba3eeOMNrV27VmvXrnXXnDt3riZMmKAlS5bo7rvv1rvvvqsPPvhA27dvb/V7wyUEQAAA0GbTpk3TqVOntGjRIpWVlSk+Pl4bNmxQdHS0JKmsrMzjnoC1tbV68skndfz4cXXu3FlxcXH605/+pDvuuMN9zNixY/XWW2/p2Wef1XPPPaf+/fsrPz9fo0aN8vn7sxoCIAAAFuOv7wJOS0tTWlpak8/l5eV5PH7qqaf01FNPGdacMmWKpkyZ0qp+0DwCIAAAFlNfX9+mK2XbsnyM9oGLQAAAAGyGCSAAABbjryVgtB8EQAAALIYlYBghAAIAYDFMAGGEcwABAABshgkgAAAWwwQQRgiAAABYDOcAwghLwAAAADbDBBAAAIthCRhGCIAAAFgMS8AwwhIwAACAzTABBADAYlgChhECIAAAFkMAhBGWgAEAAGyGCSAAABbDRSAwQgBsZ4KDg9WpUyev1z158qTXaza4cOGCabXHjRtnWu3jx4+bVluSQkJCTKv9j3/8w7TaX3/9tWm1r7/+etNq//GPfzSt9sCBA02rHRERYVrtzp07m1Zbkrp27Wpa7X379plW26y+a2pqTKnbHJZx0RICIAAAFsM5gDDCOYAAAAA2wwQQAACLYQIIIwRAAAAshgAIIywBAwAA2AwTQAAALKatt3HhNjDWxwTQC7Zu3aq77rpLkZGRcjgceuedd5o99pFHHpHD4VB2drbP+gMA2EvDEnBbNlgbAdALvvnmGw0bNkwrV65s8bh33nlHH330kSIjI33UGQAAQGMsAXtBSkqKUlJSWjzm+PHjevTRR7Vx40bdeeedPuoMAGBHXAQCIwRAH6ivr1dqaqrmzZunuLg4f7cDALA4AiCMEAB9YMmSJerYsaMef/zxK35NTU2Nx9cGVVVVmdEaAACwIQKgyQoLC7V8+XLt2bPnqr6YOysrSwsXLjSxMwCAVTEBhBEuAjHZtm3bVFFRoT59+qhjx47q2LGjvvzyS/30pz9V3759m31dZmamKisr3VtpaanvmgYAtGtcBQwjTABNlpqaqltvvdVj3+23367U1FTNmDGj2dc5nU45nU6z2wMAWBD3AYQRAqAXnD17VocPH3Y/Pnr0qIqLixUWFqY+ffqoe/fuHsd36tRJERERGjRokK9bBQAAIAB6w+7du3XLLbe4H2dkZEiSHnzwQeXl5fmpKwCAXXEOIIwQAL1g4sSJV/Vh+cc//mFeMwAA2yMAwggXgQAAANgME0AAACyGCSCMEAABALAYAiCMsAQMAABgM0wAAQCwGCaAMEIAbGdKS0vVsaP3/7Ndd911Xq/Z4MYbbzStdnFxsWm1L1y4YFptSbr33ntNqx0QEGBa7f3795tW+9NPPzWt9uDBg02r/d5775lWOzk52bTadXV1ptWWpKSkJNNq79mzx7TaX3zxhSl1a2trTanbFJfL1aabObc2AObk5OgXv/iFysrKFBcXp+zsbI0fP97wdf/zP/+jm2++WfHx8R5/r+fl5TX5pQnnz59XUFBQq3rEJSwBAwCANsvPz1d6errmz5+voqIijR8/XikpKSopKWnxdZWVlXrggQc0adKkJp8PCQlRWVmZx0b4azsCIAAAFuOP7wJeunSpZs6cqVmzZmnw4MHKzs5WVFSUVq1a1eLrHnnkEU2fPl1jxoxp8nmHw6GIiAiPDW1HAAQAwGJ8HQBra2tVWFjY6JSF5ORk7dixo9nXvfrqq/riiy/0/PPPN3vM2bNnFR0drd69e2vy5MkqKiq6qt7QNM4BBADAYtp6EUfD66uqqjz2O51OOZ3ORsefPHlSdXV1Cg8P99gfHh6u8vLyJn/GoUOH9Mwzz2jbtm3NntseGxurvLw8DR06VFVVVVq+fLmSkpK0d+9eDRgwoDVvDf+PCSAAAGhSVFSUQkND3VtWVlaLxzscDo/HLper0T7p0gVI06dP18KFCzVw4MBm640ePVr333+/hg0bpvHjx+v3v/+9Bg4cqBUrVrTuDcGNCSAAABbjrQlgaWmpQkJC3Pubmv5JUo8ePRQQENBo2ldRUdFoKihJZ86c0e7du1VUVKRHH31UklRfXy+Xy6WOHTtq06ZN+rd/+7dGr+vQoYNGjBihQ4cOtfq94RICIAAAFuOtABgSEuIRAJsTGBiohIQEFRQU6Ic//KF7f0FBge6+++5Gx4eEhOiTTz7x2JeTk6O//vWv+sMf/qCYmJhm+youLtbQoUOv5u2gCQRAAADQZhkZGUpNTVViYqLGjBmj3NxclZSUaPbs2ZKkzMxMHT9+XK+//ro6dOig+Ph4j9f37NlTQUFBHvsXLlyo0aNHa8CAAaqqqtJLL72k4uJivfzyyz59b1ZEAAQAwGLq6+ubPPfuSrVmgjht2jSdOnVKixYtUllZmeLj47VhwwZFR0dLksrKygzvCXi5r7/+Wg8//LDKy8sVGhqq4cOHa+vWrRo5cuRV9wdPBEAAACzGW0vAVystLU1paWlNPpeXl9fiaxcsWKAFCxZ47Fu2bJmWLVvWql7QMq4CBgAAsBkmgAAAWIy/JoBoPwiAAABYDAEQRlgCBgAAsBkmgAAAWAwTQBghAAIAYDEEQBghAAIAYDH+uA8g2hfOAQQAALAZJoAAAFgMS8AwQgAEAMBiCIAwwhIwAACAzTABbCca/m/s4sWLptQ3q64k1dTUmFa7trbWtNoXLlwwrbYknTt3zrTa1dXVptU28/di5p/D9vpn5fz586bVrqurM6221H7/jJv1Z6Xhz4mvpmtM8dASh4s/Ie3CsWPHFBUV5e82AABtVFpaqt69e5tSu7q6WjExMSovL29zrYiICB09elRBQUFe6AzXGgJgO1FfX68TJ04oODj4ii7tr6qqUlRUlEpLSxUSEuKDDr2Dvn2rvfYttd/e6du3rqW+XS6Xzpw5o8jISHXoYN4ZWNXV1V6ZYgYGBhL+LIwl4HaiQ4cOrfo/xpCQEL//pdca9O1b7bVvqf32Tt++da30HRoaavrPCAoKIrjBEBeBAAAA2AwBEAAAwGYIgBbldDr1/PPPy+l0+ruVq0LfvtVe+5bab+/07VvttW/AbFwEAgAAYDNMAAEAAGyGAAgAAGAzBEAAAACbIQACAADYDAHQgnJychQTE6OgoCAlJCRo27Zt/m7JUFZWlkaMGKHg4GD17NlTP/jBD3TgwAF/t3VVsrKy5HA4lJ6e7u9Wrsjx48d1//33q3v37urSpYu++93vqrCw0N9ttejixYt69tlnFRMTo86dO6tfv35atGiR6uvr/d2ah61bt+quu+5SZGSkHA6H3nnnHY/nXS6XFixYoMjISHXu3FkTJ07UZ5995p9mL9NS7xcuXNDTTz+toUOHqmvXroqMjNQDDzygEydO+K/h/2f0O/+2Rx55RA6HQ9nZ2T7rD7jWEAAtJj8/X+np6Zo/f76Kioo0fvx4paSkqKSkxN+ttWjLli2aM2eO/va3v6mgoEAXL15UcnKyvvnmG3+3dkV27dql3Nxc3XTTTf5u5YqcPn1aSUlJ6tSpk95//33t27dP//Vf/6Vu3br5u7UWLVmyRL/61a+0cuVKff7553rxxRf1i1/8QitWrPB3ax6++eYbDRs2TCtXrmzy+RdffFFLly7VypUrtWvXLkVEROi2227TmTNnfNxpYy31fu7cOe3Zs0fPPfec9uzZo7ffflsHDx7U97//fT906snod97gnXfe0UcffaTIyEgfdQZco1ywlJEjR7pmz57tsS82Ntb1zDPP+Kmj1qmoqHBJcm3ZssXfrRg6c+aMa8CAAa6CggLXzTff7Jo7d66/WzL09NNPu8aNG+fvNq7anXfe6XrooYc89v3oRz9y3X///X7qyJgk17p169yP6+vrXREREa6f//zn7n3V1dWu0NBQ169+9Ss/dNi8y3tvyt///neXJNeXX37pm6auQHN9Hzt2zHXDDTe4Pv30U1d0dLRr2bJlPu8NuFYwAbSQ2tpaFRYWKjk52WN/cnKyduzY4aeuWqeyslKSFBYW5udOjM2ZM0d33nmnbr31Vn+3csXWr1+vxMRE3XPPPerZs6eGDx+u3/zmN/5uy9C4ceP0l7/8RQcPHpQk7d27V9u3b9cdd9zh586u3NGjR1VeXu7xOXU6nbr55pvb3edUuvRZdTgc1/z0uL6+XqmpqZo3b57i4uL83Q7gdx393QC85+TJk6qrq1N4eLjH/vDwcJWXl/upq6vncrmUkZGhcePGKT4+3t/ttOitt97Snj17tGvXLn+3clWOHDmiVatWKSMjQ//xH/+hv//973r88cfldDr1wAMP+Lu9Zj399NOqrKxUbGysAgICVFdXpxdeeEE//vGP/d3aFWv4LDb1Of3yyy/90VKrVVdX65lnntH06dMVEhLi73ZatGTJEnXs2FGPP/64v1sBrgkEQAtyOBwej10uV6N917JHH31UH3/8sbZv3+7vVlpUWlqquXPnatOmTQoKCvJ3O1elvr5eiYmJWrx4sSRp+PDh+uyzz7Rq1aprOgDm5+frjTfe0Jo1axQXF6fi4mKlp6crMjJSDz74oL/buyrt/XN64cIF3Xvvvaqvr1dOTo6/22lRYWGhli9frj179rSr3zFgJpaALaRHjx4KCAhoNO2rqKhoNG24Vj322GNav369Nm/erN69e/u7nRYVFhaqoqJCCQkJ6tixozp27KgtW7bopZdeUseOHVVXV+fvFpvVq1cvDRkyxGPf4MGDr/mLhebNm6dnnnlG9957r4YOHarU1FQ98cQTysrK8ndrVywiIkKS2vXn9MKFC5o6daqOHj2qgoKCa376t23bNlVUVKhPnz7uz+qXX36pn/70p+rbt6+/2wP8ggBoIYGBgUpISFBBQYHH/oKCAo0dO9ZPXV0Zl8ulRx99VG+//bb++te/KiYmxt8tGZo0aZI++eQTFRcXu7fExETdd999Ki4uVkBAgL9bbFZSUlKj2+wcPHhQ0dHRfuroypw7d04dOnj+tRUQEHDN3QamJTExMYqIiPD4nNbW1mrLli3X/OdU+lf4O3TokD744AN1797d3y0ZSk1N1ccff+zxWY2MjNS8efO0ceNGf7cH+AVLwBaTkZGh1NRUJSYmasyYMcrNzVVJSYlmz57t79ZaNGfOHK1Zs0bvvvuugoOD3dOR0NBQde7c2c/dNS04OLjROYpdu3ZV9+7dr/lzF5944gmNHTtWixcv1tSpU/X3v/9dubm5ys3N9XdrLbrrrrv0wgsvqE+fPoqLi1NRUZGWLl2qhx56yN+teTh79qwOHz7sfnz06FEVFxcrLCxMffr0UXp6uhYvXqwBAwZowIABWrx4sbp06aLp06f7setLWuo9MjJSU6ZM0Z49e/Tee++prq7O/VkNCwtTYGCgv9o2/J1fHlQ7deqkiIgIDRo0yNetAtcG/16EDDO8/PLLrujoaFdgYKDre9/7Xru4lYqkJrdXX33V361dlfZyGxiXy+X64x//6IqPj3c5nU5XbGysKzc3198tGaqqqnLNnTvX1adPH1dQUJCrX79+rvnz57tqamr83ZqHzZs3N/nn+cEHH3S5XJduBfP888+7IiIiXE6n0zVhwgTXJ5984t+m/19LvR89erTZz+rmzZuv2b6bwm1gYHcOl8vl8lHWBAAAwDWAcwABAABshgAIAABgMwRAAAAAmyEAAgAA2AwBEAAAwGYIgAAAADZDAAQAALAZAiAAAIDNEAABAABshgAIAABgMwRAAAAAmyEAAgAA2AwBEAAAwGYIgAAAADZDAAQAALAZAiAAAIDNEAABAABshgAIAABgMwRAAAAAmyEAAgAA2AwBEAAAwGYIgAAAADZDAAQAALAZAiAAAIDNEAABAABshgAIAABgMwRAAAAAmyEAAgAA2AwBEAAAwGYIgAAAADZDAAQAALCZ/wNiaW6Atmrm8QAAAABJRU5ErkJggg==\"></img>\n",
       "</td>\n",
       "<td style=\"text-align: center; vertical-align: top;\">\n",
       "<b><a href=\"https://github.com/clEsperanto/pyclesperanto_prototype\" target=\"_blank\">cle._</a> image</b><br/>\n",
       "<table>\n",
       "<tr><td>shape</td><td>(744,&nbsp;16,&nbsp;16)</td></tr>\n",
       "<tr><td>dtype</td><td>float32</td></tr>\n",
       "<tr><td>size</td><td>744.0 kB</td></tr>\n",
       "<tr><td>min</td><td>-0.046321556</td></tr><tr><td>max</td><td>0.7989101</td></tr>\n",
       "</table>\n",
       "<img src=\"data:image/png;base64,iVBORw0KGgoAAAANSUhEUgAAALQAAAB4CAYAAABb59j9AAAAOXRFWHRTb2Z0d2FyZQBNYXRwbG90bGliIHZlcnNpb24zLjYuMCwgaHR0cHM6Ly9tYXRwbG90bGliLm9yZy89olMNAAAACXBIWXMAAA9hAAAPYQGoP6dpAAACeUlEQVR4nO3cMYrbQACG0ZFJKx9AWJAD5B4pcqF0IV0ulCL3yAECXnQAGQJpNCkWu1gCu0QeLP9+r5LAjFR8DDODUVdrrQVC7G79AnBNgiaKoIkiaKIImiiCJoqgiSJoogiaKIImiqCJImiivGs18LIsZZqm0vd96bqu1WMIUGstp9OpDMNQdrt1c2yzoKdpKuM4thqeQMfjsRwOh1VjNAu67/tSyvNL7vf7Vo8hwDzPZRzHSzNrNAv6vMzY7/eC5k2usTS1KSSKoInSbMnR0vvP3y/Xv759uuGbsDVmaKIImiiCJoqgiSJoogiaKHdxbOeYjrcyQxNF0EQRNFEETRRBE0XQRBE0UQRNFEETRdBEETRRBE0UQRNF0EQRNFEETRRBE0XQRBE0UQRNFEETRdBEETRRBE0UQRNF0EQRNFEETZS7+Fjja3zMkTMzNFEETRRBE0XQRBE0UQRNFEETRdBEETRRBE0UQRNF0EQRNFEETRRBE0XQRBE0UQRNFEETRdBEETRRBE0UQRNlk9/l8J0N/pcZmiiCJoqgiSJoomxyU7iWTeXjMkMTRdBEETRRBE0UQRNF0EQRNFEETRRBE0XQRBE0USL/y/GS/3Y8DjM0UQRNFEETRdBEeYhN4Us2ibnM0EQRNFE2seS49RLg1s/nejYR9NYI/H41C7rWWkopZZ7nV3+7/Pl9uZ7neXP3H778uNz//Ppxc/f37tzIuZk1unqNUf7h6empjOPYYmhCHY/HcjgcVo3RLOhlWco0TaXv+9J1XYtHEKLWWk6nUxmGoex2684pmgUNt+DYjiiCJoqgiSJoogiaKIImiqCJImiiCJoogibKX5fDvOsGMX0HAAAAAElFTkSuQmCC\"></img>\n",
       "</td>\n",
       "</tr>\n",
       "</table>"
      ],
      "text/plain": [
       "cl.OCLArray([[[ 0.03760218,  0.05231608,  0.04414168, ...,  0.07356946,\n",
       "          0.03869208,  0.02452315],\n",
       "        [ 0.08119891,  0.06866484,  0.04632152, ...,  0.08446865,\n",
       "          0.08719347,  0.04795641],\n",
       "        [ 0.        ,  0.05231608,  0.0092643 , ...,  0.11062669,\n",
       "          0.08664849,  0.09100816],\n",
       "        ...,\n",
       "        [ 0.05231608,  0.07302451,  0.07302451, ...,  0.05231608,\n",
       "          0.0425068 ,  0.03760218],\n",
       "        [ 0.06103543,  0.02016348,  0.06866484, ...,  0.06485011,\n",
       "          0.07901907,  0.00544958],\n",
       "        [ 0.0839237 ,  0.08501364,  0.11062669, ...,  0.12697548,\n",
       "          0.08828337,  0.07411445]],\n",
       "\n",
       "       [[ 0.10408718,  0.15258858,  0.11771118, ...,  0.21035425,\n",
       "          0.15149863,  0.14386922],\n",
       "        [ 0.08828337,  0.07356946,  0.0986376 , ...,  0.22779295,\n",
       "          0.20163488,  0.1825613 ],\n",
       "        [ 0.05286103,  0.08610354,  0.06430516, ...,  0.1880109 ,\n",
       "          0.25449595,  0.23160762],\n",
       "        ...,\n",
       "        [ 0.03760218, -0.00653951,  0.04959126, ...,  0.04087191,\n",
       "          0.0425068 ,  0.03106266],\n",
       "        [ 0.06975477,  0.0239782 ,  0.05286103, ...,  0.05776566,\n",
       "          0.0425068 ,  0.03869208],\n",
       "        [ 0.02016348,  0.06430516,  0.01961853, ...,  0.03869208,\n",
       "          0.03705722,  0.00217984]],\n",
       "\n",
       "       [[ 0.14277929,  0.11662125,  0.14277929, ...,  0.14332424,\n",
       "          0.04523159,  0.02942778],\n",
       "        [ 0.12643053,  0.14059944,  0.13841961, ...,  0.12752043,\n",
       "          0.11771118,  0.066485  ],\n",
       "        [ 0.11171662,  0.11825614,  0.09155314, ...,  0.173297  ,\n",
       "          0.10735695,  0.0986376 ],\n",
       "        ...,\n",
       "        [ 0.02724794,  0.03978201,  0.07138963, ...,  0.1400545 ,\n",
       "          0.1907357 ,  0.12752043],\n",
       "        [ 0.08119891,  0.09373298,  0.08119891, ...,  0.21798363,\n",
       "          0.16185287,  0.12261581],\n",
       "        [ 0.06103543,  0.06757494,  0.06267028, ...,  0.22343329,\n",
       "          0.16512261,  0.1493188 ]],\n",
       "\n",
       "       ...,\n",
       "\n",
       "       [[ 0.07302451,  0.05504087,  0.0572207 , ...,  0.0986376 ,\n",
       "          0.08119891,  0.08555859],\n",
       "        [ 0.04795641,  0.02942778,  0.03269755, ...,  0.07520435,\n",
       "          0.08228881,  0.05994549],\n",
       "        [ 0.0572207 ,  0.0757493 ,  0.09754767, ...,  0.07847412,\n",
       "          0.10354222,  0.11825614],\n",
       "        ...,\n",
       "        [ 0.08337875,  0.04468664,  0.0517711 , ...,  0.12043597,\n",
       "          0.04468664,  0.04468664],\n",
       "        [ 0.06267028,  0.05122615,  0.04087191, ...,  0.0517711 ,\n",
       "          0.09046321,  0.06321526],\n",
       "        [ 0.0239782 ,  0.05994549,  0.05776566, ...,  0.106812  ,\n",
       "          0.0517711 ,  0.066485  ]],\n",
       "\n",
       "       [[ 0.03487739,  0.03814713,  0.08446865, ...,  0.07084468,\n",
       "          0.07411445,  0.07847412],\n",
       "        [ 0.02343322,  0.05613077,  0.02997273, ...,  0.0746594 ,\n",
       "          0.10408718,  0.07411445],\n",
       "        [ 0.066485  ,  0.06376021,  0.0414169 , ...,  0.05231608,\n",
       "          0.0757493 ,  0.07247956],\n",
       "        ...,\n",
       "        [ 0.05395093,  0.01471387,  0.02016348, ...,  0.07847412,\n",
       "          0.02506811,  0.06158038],\n",
       "        [ 0.09482288,  0.06702995,  0.03269755, ...,  0.08119891,\n",
       "          0.07356946,  0.05231608],\n",
       "        [ 0.0239782 ,  0.02125338,  0.06975477, ...,  0.0653951 ,\n",
       "          0.06158038,  0.06866484]],\n",
       "\n",
       "       [[ 0.03378745,  0.06321526,  0.03542234, ...,  0.10463216,\n",
       "          0.07356946,  0.03814713],\n",
       "        [ 0.07302451, -0.02070847,  0.05667575, ...,  0.07247956,\n",
       "          0.11825614,  0.05994549],\n",
       "        [ 0.08446865,  0.04741142,  0.07193461, ...,  0.05395093,\n",
       "          0.08501364,  0.1160763 ],\n",
       "        ...,\n",
       "        [ 0.05613077,  0.09536783,  0.06594005, ...,  0.09427793,\n",
       "          0.0572207 ,  0.03542234],\n",
       "        [ 0.07247956,  0.07302451,  0.03923706, ...,  0.11008174,\n",
       "          0.06866484,  0.02343322],\n",
       "        [ 0.03814713,  0.0332425 ,  0.04577657, ...,  0.05667575,\n",
       "          0.07847412,  0.05994549]]], dtype=float32)"
      ]
     },
     "execution_count": 2,
     "metadata": {},
     "output_type": "execute_result"
    }
   ],
   "source": [
    "img = cle.imread('data/test.tif')\n",
    "img"
   ]
  },
  {
   "cell_type": "code",
   "execution_count": 3,
   "id": "5f556e0e-73cd-4bb9-95fc-2b6d5eefa6d2",
   "metadata": {},
   "outputs": [
    {
     "name": "stderr",
     "output_type": "stream",
     "text": [
      "UNSUPPORTED (log once): buildComputeProgram: cl2Metal failed\n"
     ]
    },
    {
     "ename": "RuntimeError",
     "evalue": "clBuildProgram failed: BUILD_PROGRAM_FAILURE - clBuildProgram failed: BUILD_PROGRAM_FAILURE - clBuildProgram failed: BUILD_PROGRAM_FAILURE\n\nBuild on <pyopencl.Device 'Apple M1 Max' on 'Apple' at 0x11fea1b00>:\n\nCompiler encountered an internal error\n(options: -I /opt/homebrew/Caskroom/mambaforge/base/envs/dbnapari-arm64/lib/python3.9/site-packages/pyopencl/cl)\n(source saved as /var/folders/8s/7jr95f1d28vflnwm1cfqv7t40000gr/T/tmpf0sr2apj.cl)",
     "output_type": "error",
     "traceback": [
      "\u001b[0;31m---------------------------------------------------------------------------\u001b[0m",
      "\u001b[0;31mRuntimeError\u001b[0m                              Traceback (most recent call last)",
      "Cell \u001b[0;32mIn [3], line 1\u001b[0m\n\u001b[0;32m----> 1\u001b[0m img\u001b[39m.\u001b[39mastype(\u001b[39mint\u001b[39m)\n",
      "File \u001b[0;32m/opt/homebrew/Caskroom/mambaforge/base/envs/dbnapari-arm64/lib/python3.9/site-packages/pyclesperanto_prototype/_tier0/_pycl.py:148\u001b[0m, in \u001b[0;36mOCLArray.astype\u001b[0;34m(self, dtype, copy)\u001b[0m\n\u001b[1;32m    146\u001b[0m copied \u001b[39m=\u001b[39m create(\u001b[39mself\u001b[39m\u001b[39m.\u001b[39mshape, dtype\u001b[39m=\u001b[39mdtype)\n\u001b[1;32m    147\u001b[0m \u001b[39mfrom\u001b[39;00m \u001b[39m.\u001b[39;00m\u001b[39m.\u001b[39;00m\u001b[39m_tier1\u001b[39;00m \u001b[39mimport\u001b[39;00m copy\n\u001b[0;32m--> 148\u001b[0m \u001b[39mreturn\u001b[39;00m copy(\u001b[39mself\u001b[39;49m, copied)\n",
      "File \u001b[0;32m/opt/homebrew/Caskroom/mambaforge/base/envs/dbnapari-arm64/lib/python3.9/site-packages/pyclesperanto_prototype/_tier0/_plugin_function.py:71\u001b[0m, in \u001b[0;36mplugin_function.<locals>.worker_function\u001b[0;34m(*args, **kwargs)\u001b[0m\n\u001b[1;32m     68\u001b[0m         bound\u001b[39m.\u001b[39marguments[key] \u001b[39m=\u001b[39m output_creator(\u001b[39m*\u001b[39mbound\u001b[39m.\u001b[39margs[:\u001b[39mlen\u001b[39m(sig2\u001b[39m.\u001b[39mparameters)])\n\u001b[1;32m     70\u001b[0m \u001b[39m# call the decorated function\u001b[39;00m\n\u001b[0;32m---> 71\u001b[0m \u001b[39mreturn\u001b[39;00m function(\u001b[39m*\u001b[39;49mbound\u001b[39m.\u001b[39;49margs, \u001b[39m*\u001b[39;49m\u001b[39m*\u001b[39;49mbound\u001b[39m.\u001b[39;49mkwargs)\n",
      "File \u001b[0;32m/opt/homebrew/Caskroom/mambaforge/base/envs/dbnapari-arm64/lib/python3.9/site-packages/pyclesperanto_prototype/_tier1/_copy.py:36\u001b[0m, in \u001b[0;36mcopy\u001b[0;34m(source, destination)\u001b[0m\n\u001b[1;32m      7\u001b[0m \u001b[39m\"\"\"Copies an image.\u001b[39;00m\n\u001b[1;32m      8\u001b[0m \u001b[39m\u001b[39;00m\n\u001b[1;32m      9\u001b[0m \u001b[39m<pre>f(x) = x</pre> \u001b[39;00m\n\u001b[0;32m   (...)\u001b[0m\n\u001b[1;32m     27\u001b[0m \u001b[39m.. [1] https://clij.github.io/clij2-docs/reference_copy\u001b[39;00m\n\u001b[1;32m     28\u001b[0m \u001b[39m\"\"\"\u001b[39;00m\n\u001b[1;32m     31\u001b[0m parameters \u001b[39m=\u001b[39m {\n\u001b[1;32m     32\u001b[0m     \u001b[39m\"\u001b[39m\u001b[39mdst\u001b[39m\u001b[39m\"\u001b[39m:destination,\n\u001b[1;32m     33\u001b[0m     \u001b[39m\"\u001b[39m\u001b[39msrc\u001b[39m\u001b[39m\"\u001b[39m:source\n\u001b[1;32m     34\u001b[0m }\n\u001b[0;32m---> 36\u001b[0m execute(\u001b[39m__file__\u001b[39;49m, \u001b[39m'\u001b[39;49m\u001b[39m../clij-opencl-kernels/kernels/copy_\u001b[39;49m\u001b[39m'\u001b[39;49m \u001b[39m+\u001b[39;49m \u001b[39mstr\u001b[39;49m(\u001b[39mlen\u001b[39;49m(destination\u001b[39m.\u001b[39;49mshape)) \u001b[39m+\u001b[39;49m \u001b[39m'\u001b[39;49m\u001b[39md_x.cl\u001b[39;49m\u001b[39m'\u001b[39;49m, \u001b[39m'\u001b[39;49m\u001b[39mcopy_\u001b[39;49m\u001b[39m'\u001b[39;49m \u001b[39m+\u001b[39;49m \u001b[39mstr\u001b[39;49m(\u001b[39mlen\u001b[39;49m(destination\u001b[39m.\u001b[39;49mshape)) \u001b[39m+\u001b[39;49m \u001b[39m'\u001b[39;49m\u001b[39md\u001b[39;49m\u001b[39m'\u001b[39;49m, destination\u001b[39m.\u001b[39;49mshape, parameters)\n\u001b[1;32m     37\u001b[0m \u001b[39mreturn\u001b[39;00m destination\n",
      "File \u001b[0;32m/opt/homebrew/Caskroom/mambaforge/base/envs/dbnapari-arm64/lib/python3.9/site-packages/pyclesperanto_prototype/_tier0/_execute.py:3\u001b[0m, in \u001b[0;36mexecute\u001b[0;34m(anchor, opencl_kernel_filename, kernel_name, global_size, parameters, prog, constants, image_size_independent_kernel_compilation, device)\u001b[0m\n\u001b[1;32m      2\u001b[0m \u001b[39mdef\u001b[39;00m \u001b[39mexecute\u001b[39m(anchor, opencl_kernel_filename, kernel_name, global_size, parameters, prog \u001b[39m=\u001b[39m \u001b[39mNone\u001b[39;00m, constants \u001b[39m=\u001b[39m \u001b[39mNone\u001b[39;00m, image_size_independent_kernel_compilation : \u001b[39mbool\u001b[39m \u001b[39m=\u001b[39m \u001b[39mNone\u001b[39;00m, device \u001b[39m=\u001b[39m \u001b[39mNone\u001b[39;00m):\n\u001b[0;32m----> 3\u001b[0m     \u001b[39mreturn\u001b[39;00m Backend\u001b[39m.\u001b[39;49mget_instance()\u001b[39m.\u001b[39;49mget()\u001b[39m.\u001b[39;49mexecute(anchor, opencl_kernel_filename, kernel_name, global_size, parameters, prog, constants, image_size_independent_kernel_compilation, device)\n",
      "File \u001b[0;32m/opt/homebrew/Caskroom/mambaforge/base/envs/dbnapari-arm64/lib/python3.9/site-packages/pyclesperanto_prototype/_tier0/_opencl_backend.py:41\u001b[0m, in \u001b[0;36mOpenCLBackend.execute\u001b[0;34m(self, anchor, opencl_kernel_filename, kernel_name, global_size, parameters, prog, constants, image_size_independent_kernel_compilation, device)\u001b[0m\n\u001b[1;32m     40\u001b[0m \u001b[39mdef\u001b[39;00m \u001b[39mexecute\u001b[39m(\u001b[39mself\u001b[39m, anchor, opencl_kernel_filename, kernel_name, global_size, parameters, prog \u001b[39m=\u001b[39m \u001b[39mNone\u001b[39;00m, constants \u001b[39m=\u001b[39m \u001b[39mNone\u001b[39;00m, image_size_independent_kernel_compilation : \u001b[39mbool\u001b[39m \u001b[39m=\u001b[39m \u001b[39mNone\u001b[39;00m, device \u001b[39m=\u001b[39m \u001b[39mNone\u001b[39;00m):\n\u001b[0;32m---> 41\u001b[0m     \u001b[39mreturn\u001b[39;00m execute(anchor, opencl_kernel_filename, kernel_name, global_size, parameters, prog, constants, image_size_independent_kernel_compilation, device)\n",
      "File \u001b[0;32m/opt/homebrew/Caskroom/mambaforge/base/envs/dbnapari-arm64/lib/python3.9/site-packages/pyclesperanto_prototype/_tier0/_opencl_execute.py:311\u001b[0m, in \u001b[0;36mexecute\u001b[0;34m(anchor, opencl_kernel_filename, kernel_name, global_size, parameters, prog, constants, image_size_independent_kernel_compilation, device)\u001b[0m\n\u001b[1;32m    305\u001b[0m     \u001b[39melse\u001b[39;00m:\n\u001b[1;32m    306\u001b[0m         warnings\u001b[39m.\u001b[39mwarn(\n\u001b[1;32m    307\u001b[0m             \u001b[39m\"\u001b[39m\u001b[39mThe `device` parameter of pyclesperanto_prototype.execute is deprecated since 0.11.0. It will be removed in 0.12.0.\u001b[39m\u001b[39m\"\u001b[39m,\n\u001b[1;32m    308\u001b[0m             \u001b[39mDeprecationWarning\u001b[39;00m\n\u001b[1;32m    309\u001b[0m         )\n\u001b[0;32m--> 311\u001b[0m     prog \u001b[39m=\u001b[39m device\u001b[39m.\u001b[39;49mprogram_from_source(\u001b[39m\"\u001b[39;49m\u001b[39m\\n\u001b[39;49;00m\u001b[39m\"\u001b[39;49m\u001b[39m.\u001b[39;49mjoin(defines))\n\u001b[1;32m    312\u001b[0m     \u001b[39m#prog = OCLProgram.from_source(\"\\n\".join(defines))\u001b[39;00m\n\u001b[1;32m    313\u001b[0m \n\u001b[1;32m    314\u001b[0m     \u001b[39m# Todo: the order of the arguments matters; fix that\u001b[39;00m\n\u001b[1;32m    315\u001b[0m     \u001b[39m# print(\"Compilation \" + opencl_kernel_filename + \" took \" + str((time.time() - time_stamp) * 1000) + \" ms\")\u001b[39;00m\n\u001b[1;32m    316\u001b[0m \u001b[39melse\u001b[39;00m:\n\u001b[1;32m    317\u001b[0m     warnings\u001b[39m.\u001b[39mwarn(\n\u001b[1;32m    318\u001b[0m         \u001b[39m\"\u001b[39m\u001b[39mThe `prog` parameter of pyclesperanto_prototype.execute is deprecated since 0.11.0. It will be removed in 0.12.0.\u001b[39m\u001b[39m\"\u001b[39m,\n\u001b[1;32m    319\u001b[0m         \u001b[39mDeprecationWarning\u001b[39;00m\n\u001b[1;32m    320\u001b[0m     )\n",
      "File \u001b[0;32m/opt/homebrew/Caskroom/mambaforge/base/envs/dbnapari-arm64/lib/python3.9/site-packages/pyclesperanto_prototype/_tier0/_device.py:26\u001b[0m, in \u001b[0;36mDevice.program_from_source\u001b[0;34m(self, source)\u001b[0m\n\u001b[1;32m     23\u001b[0m \u001b[39m@lru_cache\u001b[39m(maxsize\u001b[39m=\u001b[39m\u001b[39m128\u001b[39m)\n\u001b[1;32m     24\u001b[0m \u001b[39mdef\u001b[39;00m \u001b[39mprogram_from_source\u001b[39m(\u001b[39mself\u001b[39m, source):\n\u001b[1;32m     25\u001b[0m     \u001b[39mfrom\u001b[39;00m \u001b[39m.\u001b[39;00m\u001b[39m_program\u001b[39;00m \u001b[39mimport\u001b[39;00m OCLProgram\n\u001b[0;32m---> 26\u001b[0m     \u001b[39mreturn\u001b[39;00m OCLProgram(src_str\u001b[39m=\u001b[39;49msource, dev\u001b[39m=\u001b[39;49m\u001b[39mself\u001b[39;49m)\n",
      "File \u001b[0;32m/opt/homebrew/Caskroom/mambaforge/base/envs/dbnapari-arm64/lib/python3.9/site-packages/pyclesperanto_prototype/_tier0/_program.py:28\u001b[0m, in \u001b[0;36mOCLProgram.__init__\u001b[0;34m(self, file_name, src_str, build_options, dev)\u001b[0m\n\u001b[1;32m     26\u001b[0m \u001b[39mself\u001b[39m\u001b[39m.\u001b[39m_kernel_dict \u001b[39m=\u001b[39m {}\n\u001b[1;32m     27\u001b[0m \u001b[39msuper\u001b[39m()\u001b[39m.\u001b[39m\u001b[39m__init__\u001b[39m(\u001b[39mself\u001b[39m\u001b[39m.\u001b[39m_dev\u001b[39m.\u001b[39mcontext, src_str)\n\u001b[0;32m---> 28\u001b[0m \u001b[39mself\u001b[39;49m\u001b[39m.\u001b[39;49mbuild(options\u001b[39m=\u001b[39;49mbuild_options)\n",
      "File \u001b[0;32m/opt/homebrew/Caskroom/mambaforge/base/envs/dbnapari-arm64/lib/python3.9/site-packages/pyopencl/__init__.py:535\u001b[0m, in \u001b[0;36mProgram.build\u001b[0;34m(self, options, devices, cache_dir)\u001b[0m\n\u001b[1;32m    531\u001b[0m \u001b[39melse\u001b[39;00m:\n\u001b[1;32m    532\u001b[0m     \u001b[39m# cached\u001b[39;00m\n\u001b[1;32m    534\u001b[0m     \u001b[39mfrom\u001b[39;00m \u001b[39mpyopencl\u001b[39;00m\u001b[39m.\u001b[39;00m\u001b[39mcache\u001b[39;00m \u001b[39mimport\u001b[39;00m create_built_program_from_source_cached\n\u001b[0;32m--> 535\u001b[0m     \u001b[39mself\u001b[39m\u001b[39m.\u001b[39m_prg, was_cached \u001b[39m=\u001b[39m \u001b[39mself\u001b[39;49m\u001b[39m.\u001b[39;49m_build_and_catch_errors(\n\u001b[1;32m    536\u001b[0m             \u001b[39mlambda\u001b[39;49;00m: create_built_program_from_source_cached(\n\u001b[1;32m    537\u001b[0m                 \u001b[39mself\u001b[39;49m\u001b[39m.\u001b[39;49m_context, \u001b[39mself\u001b[39;49m\u001b[39m.\u001b[39;49m_source, options_bytes, devices,\n\u001b[1;32m    538\u001b[0m                 cache_dir\u001b[39m=\u001b[39;49mcache_dir, include_path\u001b[39m=\u001b[39;49minclude_path),\n\u001b[1;32m    539\u001b[0m             options_bytes\u001b[39m=\u001b[39;49moptions_bytes, source\u001b[39m=\u001b[39;49m\u001b[39mself\u001b[39;49m\u001b[39m.\u001b[39;49m_source)\n\u001b[1;32m    541\u001b[0m     \u001b[39mif\u001b[39;00m was_cached:\n\u001b[1;32m    542\u001b[0m         build_descr \u001b[39m=\u001b[39m \u001b[39m\"\u001b[39m\u001b[39mcache retrieval\u001b[39m\u001b[39m\"\u001b[39m\n",
      "File \u001b[0;32m/opt/homebrew/Caskroom/mambaforge/base/envs/dbnapari-arm64/lib/python3.9/site-packages/pyopencl/__init__.py:583\u001b[0m, in \u001b[0;36mProgram._build_and_catch_errors\u001b[0;34m(self, build_func, options_bytes, source)\u001b[0m\n\u001b[1;32m    575\u001b[0m     err \u001b[39m=\u001b[39m _cl\u001b[39m.\u001b[39mRuntimeError(\n\u001b[1;32m    576\u001b[0m             _cl\u001b[39m.\u001b[39m_ErrorRecord(\n\u001b[1;32m    577\u001b[0m                 msg\u001b[39m=\u001b[39mmsg,\n\u001b[1;32m    578\u001b[0m                 code\u001b[39m=\u001b[39mcode,\n\u001b[1;32m    579\u001b[0m                 routine\u001b[39m=\u001b[39mroutine))\n\u001b[1;32m    581\u001b[0m \u001b[39m# Python 3.2 outputs the whole list of currently active exceptions\u001b[39;00m\n\u001b[1;32m    582\u001b[0m \u001b[39m# This serves to remove one (redundant) level from that nesting.\u001b[39;00m\n\u001b[0;32m--> 583\u001b[0m \u001b[39mraise\u001b[39;00m err\n",
      "\u001b[0;31mRuntimeError\u001b[0m: clBuildProgram failed: BUILD_PROGRAM_FAILURE - clBuildProgram failed: BUILD_PROGRAM_FAILURE - clBuildProgram failed: BUILD_PROGRAM_FAILURE\n\nBuild on <pyopencl.Device 'Apple M1 Max' on 'Apple' at 0x11fea1b00>:\n\nCompiler encountered an internal error\n(options: -I /opt/homebrew/Caskroom/mambaforge/base/envs/dbnapari-arm64/lib/python3.9/site-packages/pyopencl/cl)\n(source saved as /var/folders/8s/7jr95f1d28vflnwm1cfqv7t40000gr/T/tmpf0sr2apj.cl)"
     ]
    }
   ],
   "source": [
    "img.astype(int)"
   ]
  },
  {
   "cell_type": "code",
   "execution_count": null,
   "id": "77cefe77-ad2a-4536-80c4-5223077b7fa3",
   "metadata": {},
   "outputs": [],
   "source": []
  }
 ],
 "metadata": {
  "kernelspec": {
   "display_name": "dbnapari-arm64",
   "language": "python",
   "name": "python3"
  },
  "language_info": {
   "codemirror_mode": {
    "name": "ipython",
    "version": 3
   },
   "file_extension": ".py",
   "mimetype": "text/x-python",
   "name": "python",
   "nbconvert_exporter": "python",
   "pygments_lexer": "ipython3",
   "version": "3.9.15"
  },
  "vscode": {
   "interpreter": {
    "hash": "f13a533d7f6b525f1b9e27d74dd8bd7ea06c4c95ae7aaf0187c7426193b5690e"
   }
  }
 },
 "nbformat": 4,
 "nbformat_minor": 5
}
